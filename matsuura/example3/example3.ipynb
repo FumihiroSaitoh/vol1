{
 "cells": [
  {
   "cell_type": "markdown",
   "metadata": {},
   "source": [
    "## Example 3"
   ]
  },
  {
   "cell_type": "code",
   "execution_count": 1,
   "metadata": {
    "collapsed": true
   },
   "outputs": [],
   "source": [
    "%matplotlib inline\n",
    "import matplotlib.pyplot as plt\n",
    "plt.style.use('ggplot')"
   ]
  },
  {
   "cell_type": "code",
   "execution_count": 2,
   "metadata": {
    "collapsed": true
   },
   "outputs": [],
   "source": [
    "import warnings\n",
    "warnings.filterwarnings(\"ignore\")"
   ]
  },
  {
   "cell_type": "code",
   "execution_count": 3,
   "metadata": {
    "collapsed": false
   },
   "outputs": [
    {
     "data": {
      "text/plain": [
       "'1.10.1'"
      ]
     },
     "execution_count": 3,
     "metadata": {},
     "output_type": "execute_result"
    }
   ],
   "source": [
    "import numpy as np\n",
    "np.set_printoptions(threshold=5)\n",
    "np.__version__"
   ]
  },
  {
   "cell_type": "code",
   "execution_count": 4,
   "metadata": {
    "collapsed": false
   },
   "outputs": [
    {
     "data": {
      "text/plain": [
       "'2.8.0.0'"
      ]
     },
     "execution_count": 4,
     "metadata": {},
     "output_type": "execute_result"
    }
   ],
   "source": [
    "import pystan\n",
    "pystan.__version__"
   ]
  },
  {
   "cell_type": "code",
   "execution_count": 5,
   "metadata": {
    "collapsed": false
   },
   "outputs": [
    {
     "data": {
      "text/plain": [
       "array([[ 1.09,  1.16,  0.63, ...,  1.54,  1.83,  2.06],\n",
       "       [ 1.39,  1.85,  0.49, ...,  1.17,  1.54,  0.01],\n",
       "       [-0.81,  2.24,  0.27, ...,  3.91,  2.48,  2.86],\n",
       "       ..., \n",
       "       [ 3.68,  3.38,  2.48, ...,  1.89,  1.27, -0.64],\n",
       "       [ 5.3 ,  5.34,  6.13, ...,  4.14,  1.57,  0.05],\n",
       "       [ 1.69,  1.64,  0.42, ...,  0.68, -1.13, -0.33]])"
      ]
     },
     "execution_count": 5,
     "metadata": {},
     "output_type": "execute_result"
    }
   ],
   "source": [
    "# runstan.R\n",
    "m = np.loadtxt('input/data-plate.txt', delimiter=',')\n",
    "m"
   ]
  },
  {
   "cell_type": "code",
   "execution_count": 6,
   "metadata": {
    "collapsed": false
   },
   "outputs": [
    {
     "data": {
      "text/plain": [
       "(0, 24)"
      ]
     },
     "execution_count": 6,
     "metadata": {},
     "output_type": "execute_result"
    },
    {
     "data": {
      "image/png": "[encoded data removed]",
      "text/plain": [
       "<matplotlib.figure.Figure at 0x7fa585c7d390>"
      ]
     },
     "metadata": {},
     "output_type": "display_data"
    }
   ],
   "source": [
    "# fig3.R\n",
    "fig, ax = plt.subplots(1, 1)\n",
    "ax.pcolor(m, cmap=plt.get_cmap('gray'))\n",
    "ax.set_xlabel('Plate Column')\n",
    "ax.set_ylabel('Plate Row')\n",
    "ax.invert_yaxis()\n",
    "ax.set_xlim(0, 24)"
   ]
  },
  {
   "cell_type": "code",
   "execution_count": 7,
   "metadata": {
    "collapsed": false
   },
   "outputs": [
    {
     "data": {
      "text/plain": [
       "(16, 24)"
      ]
     },
     "execution_count": 7,
     "metadata": {},
     "output_type": "execute_result"
    }
   ],
   "source": [
    "T = 96\n",
    "Ni, Nj = m.shape\n",
    "Ni, Nj"
   ]
  },
  {
   "cell_type": "code",
   "execution_count": 8,
   "metadata": {
    "collapsed": false,
    "scrolled": false
   },
   "outputs": [
    {
     "data": {
      "text/plain": [
       "array([ 1,  2,  3, ..., 14, 15, 16])"
      ]
     },
     "execution_count": 8,
     "metadata": {},
     "output_type": "execute_result"
    }
   ],
   "source": [
    "rownames = np.tile(np.arange(1, Ni + 1), Nj)\n",
    "rownames"
   ]
  },
  {
   "cell_type": "code",
   "execution_count": 9,
   "metadata": {
    "collapsed": false
   },
   "outputs": [
    {
     "data": {
      "text/plain": [
       "array([ 1,  1,  1, ..., 24, 24, 24])"
      ]
     },
     "execution_count": 9,
     "metadata": {},
     "output_type": "execute_result"
    }
   ],
   "source": [
    "colnames = np.repeat(np.arange(1, Nj + 1), Ni)\n",
    "colnames"
   ]
  },
  {
   "cell_type": "code",
   "execution_count": 10,
   "metadata": {
    "collapsed": false
   },
   "outputs": [
    {
     "data": {
      "text/plain": [
       "array([[  1.  ,   1.  ,   1.09],\n",
       "       [  2.  ,   1.  ,   1.39],\n",
       "       [  3.  ,   1.  ,  -0.81],\n",
       "       ..., \n",
       "       [ 14.  ,  24.  ,  -0.64],\n",
       "       [ 15.  ,  24.  ,   0.05],\n",
       "       [ 16.  ,  24.  ,  -0.33]])"
      ]
     },
     "execution_count": 10,
     "metadata": {},
     "output_type": "execute_result"
    }
   ],
   "source": [
    "d_melt = np.vstack([rownames, colnames, m.ravel(order='F')]).T\n",
    "d_melt"
   ]
  },
  {
   "cell_type": "code",
   "execution_count": 11,
   "metadata": {
    "collapsed": false,
    "scrolled": true
   },
   "outputs": [
    {
     "data": {
      "text/plain": [
       "array([[88, 84, 60, ..., 53,  7, 92],\n",
       "       [81, 96, 35, ..., 35, 17, 26],\n",
       "       [51, 61, 51, ...,  5, 88, 56],\n",
       "       ..., \n",
       "       [94, 63, 37, ..., 96, 79, 48],\n",
       "       [75, 75, 59, ..., 20, 86, 50],\n",
       "       [63, 33, 37, ..., 44, 26,  9]])"
      ]
     },
     "execution_count": 11,
     "metadata": {},
     "output_type": "execute_result"
    }
   ],
   "source": [
    "d_design = np.loadtxt('input/data-plate-design.txt', delimiter=',', dtype=np.int64)\n",
    "d_design"
   ]
  },
  {
   "cell_type": "code",
   "execution_count": 12,
   "metadata": {
    "collapsed": false
   },
   "outputs": [
    {
     "data": {
      "text/plain": [
       "(384, 3)"
      ]
     },
     "execution_count": 12,
     "metadata": {},
     "output_type": "execute_result"
    }
   ],
   "source": [
    "d_melt.shape"
   ]
  },
  {
   "cell_type": "code",
   "execution_count": 13,
   "metadata": {
    "collapsed": false
   },
   "outputs": [
    {
     "data": {
      "text/plain": [
       "matrix([[ 1.18836818,  1.14700081,  1.36330189, ...,  2.20204339,\n",
       "          1.73759318,  1.13799464],\n",
       "        [ 1.04122751,  1.00957627,  1.33377777, ...,  2.80793932,\n",
       "          2.17901237,  1.41486002],\n",
       "        [ 0.87202044,  1.1461162 ,  1.75785438, ...,  3.58899316,\n",
       "          2.63115971,  1.62052332],\n",
       "        ..., \n",
       "        [ 3.88378517,  4.17615607,  5.00510103, ...,  2.27031383,\n",
       "          1.83860697,  1.22217918],\n",
       "        [ 3.38767571,  3.69034242,  4.40992191, ...,  1.30283393,\n",
       "          0.88063887,  0.28376363],\n",
       "        [ 2.05300955,  2.27680159,  2.7974704 , ...,  0.22287274,\n",
       "         -0.19677239, -0.77697027]])"
      ]
     },
     "execution_count": 13,
     "metadata": {},
     "output_type": "execute_result"
    }
   ],
   "source": [
    "from rpy2.robjects import r\n",
    "import rpy2.robjects as robjects\n",
    "import rpy2.robjects.numpy2ri as n2r\n",
    "\n",
    "df = robjects.DataFrame({'row': n2r.py2ri(d_melt[:, 0]),\n",
    "                         'col': n2r.py2ri(d_melt[:, 1]),\n",
    "                         'Y': n2r.py2ri(d_melt[:, 2])})\n",
    "loess_res = r.loess(\"Y ~ row + col\", data=df, span=0.1)\n",
    "vector = n2r.ri2py(loess_res.rx('fitted')[0])\n",
    "smoothed = np.matrix(vector.reshape(Nj, Ni).T)\n",
    "smoothed"
   ]
  },
  {
   "cell_type": "code",
   "execution_count": 14,
   "metadata": {
    "collapsed": false
   },
   "outputs": [
    {
     "data": {
      "text/plain": [
       "Inference for Stan model: anon_model_621baec209ca334c2bc9383839ef962d.\n",
       "3 chains, each with iter=5200; warmup=200; thin=5; \n",
       "post-warmup draws per chain=1000, total post-warmup draws=3000.\n",
       "\n",
       "           mean se_mean     sd   2.5%    25%    50%    75%  97.5%  n_eff   Rhat\n",
       "r[0,0]     1.08  5.7e-3   0.31   0.47   0.87   1.08    1.3   1.69   3000    1.0\n",
       "r[1,0]     1.15  4.4e-3   0.24   0.68   0.98   1.14   1.31   1.62   3000   1.01\n",
       "r[2,0]     1.17  4.4e-3   0.24    0.7   1.01   1.17   1.34   1.63   3000   1.01\n",
       "r[3,0]     1.31  4.3e-3   0.24   0.86   1.14   1.31   1.47   1.77   3000   1.01\n",
       "r[4,0]     1.47  4.3e-3   0.23   1.02   1.32   1.48   1.63   1.94   3000   1.01\n",
       "r[5,0]      1.7  4.2e-3   0.23   1.25   1.54   1.69   1.85   2.14   3000   1.01\n",
       "r[6,0]     2.05  4.2e-3   0.23   1.59    1.9   2.05   2.21   2.52   3000   1.01\n",
       "r[7,0]      2.6  4.3e-3   0.24   2.13   2.44    2.6   2.76   3.06   3000   1.01\n",
       "r[8,0]     3.21  4.4e-3   0.24   2.75   3.04   3.21   3.37   3.69   3000    1.0\n",
       "r[9,0]     3.79  4.3e-3   0.23   3.32   3.63   3.79   3.94   4.24   3000    1.0\n",
       "r[10,0]    4.03  4.4e-3   0.24   3.55   3.87   4.02   4.18   4.51   3000   1.01\n",
       "r[11,0]    3.84  4.4e-3   0.24   3.36   3.68   3.84    4.0    4.3   3000   1.01\n",
       "r[12,0]    3.34  4.4e-3   0.24   2.87   3.17   3.33   3.49   3.82   3000   1.01\n",
       "r[13,0]    2.64  4.4e-3   0.24   2.19   2.48   2.64    2.8   3.12   3000   1.01\n",
       "r[14,0]    2.13  4.5e-3   0.25   1.64   1.96   2.13   2.29   2.61   3000   1.01\n",
       "r[15,0]    1.52  5.8e-3   0.32   0.89   1.31   1.53   1.74   2.11   3000   1.01\n",
       "r[0,1]     1.26  4.4e-3   0.24   0.79    1.1   1.27   1.43   1.73   3000   1.01\n",
       "r[1,1]     1.45  3.6e-3    0.2   1.05   1.31   1.45   1.58   1.83   3000   1.01\n",
       "r[2,1]     1.61  3.7e-3    0.2   1.21   1.47   1.61   1.75   2.01   3000   1.01\n",
       "r[3,1]     1.96  3.7e-3    0.2   1.56   1.83   1.96    2.1   2.37   3000   1.01\n",
       "r[4,1]     2.43  3.7e-3    0.2   2.04    2.3   2.44   2.57   2.83   3000   1.01\n",
       "r[5,1]     3.02  3.6e-3    0.2   2.63   2.89   3.03   3.15   3.41   3000   1.01\n",
       "r[6,1]     3.66  3.7e-3    0.2   3.27   3.53   3.66    3.8   4.06   3000   1.01\n",
       "r[7,1]      4.4  3.7e-3    0.2   3.99   4.26    4.4   4.54    4.8   3000   1.01\n",
       "r[8,1]      5.1  3.7e-3    0.2    4.7   4.97    5.1   5.24   5.49   3000   1.01\n",
       "r[9,1]     5.57  3.6e-3    0.2   5.17   5.44   5.57    5.7   5.96   3000   1.01\n",
       "r[10,1]     5.7  3.6e-3    0.2   5.31   5.57    5.7   5.83   6.08   3000   1.02\n",
       "r[11,1]    5.41  3.7e-3    0.2   5.03   5.28   5.42   5.55    5.8   3000   1.01\n",
       "r[12,1]    4.75  3.6e-3    0.2   4.36   4.62   4.75   4.89   5.15   3000   1.01\n",
       "r[13,1]     3.8  3.8e-3   0.21   3.39   3.66    3.8   3.94   4.23   3000   1.01\n",
       "r[14,1]    2.92  3.8e-3   0.21    2.5   2.79   2.92   3.06   3.33   3000   1.01\n",
       "r[15,1]    2.08  4.4e-3   0.24   1.62   1.92   2.08   2.25   2.56   3000   1.01\n",
       "r[0,2]     1.67  4.3e-3   0.24   1.22   1.52   1.68   1.84   2.14   3000   1.01\n",
       "r[1,2]     1.93  3.7e-3    0.2   1.55    1.8   1.93   2.07   2.34   3000   1.01\n",
       "r[2,2]     2.27  3.8e-3   0.21   1.87   2.12   2.27   2.41   2.68   3000   1.01\n",
       "r[3,2]     2.81  3.8e-3   0.21    2.4   2.67   2.81   2.95   3.22   3000   1.01\n",
       "r[4,2]     3.57  3.7e-3    0.2   3.17   3.44   3.57    3.7   3.98   3000   1.01\n",
       "r[5,2]     4.52  3.6e-3    0.2   4.13   4.39   4.51   4.64   4.91   3000   1.01\n",
       "r[6,2]     5.43  3.6e-3    0.2   5.04    5.3   5.42   5.56   5.81   3000   1.01\n",
       "r[7,2]     6.34  3.6e-3    0.2   5.94   6.22   6.34   6.48   6.73   3000   1.01\n",
       "r[8,2]     7.09  3.6e-3    0.2   6.69   6.97    7.1   7.22   7.49   3000   1.01\n",
       "r[9,2]     7.51  3.6e-3    0.2   7.12   7.37   7.51   7.64   7.89   3000   1.02\n",
       "r[10,2]    7.62  3.5e-3   0.19   7.24   7.49   7.62   7.75   7.98   3000   1.01\n",
       "r[11,2]    7.16  3.6e-3    0.2   6.77   7.03   7.16   7.29   7.54   3000   1.01\n",
       "r[12,2]    6.26  3.6e-3    0.2   5.87   6.13   6.27   6.39   6.64   3000   1.01\n",
       "r[13,2]     5.1  3.7e-3    0.2    4.7   4.96    5.1   5.23   5.51   3000   1.01\n",
       "r[14,2]    3.96  3.7e-3    0.2   3.57   3.82   3.95   4.09   4.37   3000   1.01\n",
       "r[15,2]    2.83  4.4e-3   0.24   2.36   2.67   2.83   2.98   3.31   3000   1.01\n",
       "r[0,3]     2.27  4.3e-3   0.24   1.81   2.11   2.27   2.43   2.73   3000   1.01\n",
       "r[1,3]     2.58  3.7e-3    0.2   2.19   2.45   2.58   2.72   2.97   3000   1.01\n",
       "r[2,3]     3.05  3.8e-3   0.21   2.65   2.91   3.05   3.19   3.45   3000   1.01\n",
       "r[3,3]     3.82  3.8e-3   0.21   3.41   3.68   3.82   3.95   4.23   3000   1.01\n",
       "r[4,3]     4.84  3.7e-3    0.2   4.46   4.71   4.84   4.99   5.25   3000   1.01\n",
       "r[5,3]     5.98  3.6e-3    0.2   5.59   5.85   5.98   6.11   6.35   3000   1.01\n",
       "r[6,3]     7.12  3.5e-3   0.19   6.72   6.99   7.12   7.24   7.49   3000   1.01\n",
       "r[7,3]     8.16  3.6e-3    0.2   7.76   8.03   8.16   8.29   8.54   3000   1.01\n",
       "r[8,3]     8.89  3.6e-3    0.2   8.48   8.76    8.9   9.02   9.27   3000   1.01\n",
       "r[9,3]     9.34  3.7e-3    0.2   8.93    9.2   9.34   9.48   9.72   3000   1.01\n",
       "r[10,3]    9.38  3.7e-3    0.2   8.97   9.24   9.38   9.52   9.76   3000   1.01\n",
       "r[11,3]     8.8  3.6e-3    0.2   8.41   8.66    8.8   8.94   9.18   3000   1.01\n",
       "r[12,3]    7.78  3.6e-3    0.2    7.4   7.65   7.79   7.91   8.17   3000   1.01\n",
       "r[13,3]    6.47  3.6e-3    0.2   6.07   6.34   6.47   6.61   6.85   3000   1.01\n",
       "r[14,3]    5.14  3.7e-3    0.2   4.75    5.0   5.14   5.27   5.54   3000   1.01\n",
       "r[15,3]    3.79  4.4e-3   0.24   3.32   3.63   3.78   3.94   4.28   3000   1.01\n",
       "r[0,4]     2.95  4.3e-3   0.24   2.48   2.79   2.96   3.11   3.41   3000   1.01\n",
       "r[1,4]     3.38  3.5e-3   0.19   2.99   3.25   3.38    3.5   3.78   3000   1.01\n",
       "r[2,4]     3.97  3.6e-3    0.2   3.58   3.83   3.97   4.11   4.37   3000   1.01\n",
       "r[3,4]     4.89  3.7e-3    0.2    4.5   4.75   4.89   5.03    5.3   3000   1.01\n",
       "r[4,4]     6.08  3.6e-3    0.2    5.7   5.94   6.07   6.22   6.46   3000   1.01\n",
       "r[5,4]      7.4  3.7e-3    0.2    7.0   7.26    7.4   7.54   7.79   3000   1.01\n",
       "r[6,4]     8.67  3.6e-3    0.2   8.27   8.54   8.68    8.8   9.05   3000   1.01\n",
       "r[7,4]     9.67  3.7e-3    0.2   9.24   9.54   9.67    9.8  10.05   3000   1.01\n",
       "r[8,4]    10.28  3.7e-3   0.21   9.87  10.15  10.29  10.42  10.67   3000   1.01\n",
       "r[9,4]    10.63  3.8e-3   0.21   10.2  10.49  10.64  10.77  11.02   3000   1.01\n",
       "r[10,4]   10.58  3.8e-3   0.21  10.16  10.45  10.59  10.72  10.98   3000   1.01\n",
       "r[11,4]   10.11  4.0e-3   0.22   9.66   9.96  10.11  10.26  10.52   3000   1.01\n",
       "r[12,4]     9.1  3.7e-3    0.2    8.7   8.96   9.11   9.24    9.5   3000   1.01\n",
       "r[13,4]     7.8  3.6e-3    0.2   7.39   7.67    7.8   7.92   8.18   3000   1.01\n",
       "r[14,4]    6.42  3.6e-3    0.2   6.03   6.29   6.42   6.55   6.81   3000   1.01\n",
       "r[15,4]    4.94  4.5e-3   0.25   4.45   4.77   4.94    5.1   5.42   3000    1.0\n",
       "r[0,5]     3.58  4.4e-3   0.24    3.1   3.43   3.58   3.75   4.03   3000   1.01\n",
       "r[1,5]      4.1  3.6e-3    0.2   3.72   3.97    4.1   4.23   4.49   3000   1.01\n",
       "r[2,5]     4.89  3.5e-3   0.19   4.52   4.76   4.89   5.03   5.28   3000   1.01\n",
       "r[3,5]     5.91  3.6e-3    0.2   5.53   5.77   5.91   6.04   6.29   3000   1.01\n",
       "r[4,5]     7.17  3.6e-3    0.2   6.78   7.03   7.17   7.31   7.54   3000   1.01\n",
       "r[5,5]     8.55  3.6e-3    0.2   8.17   8.41   8.55   8.68   8.93   3000   1.01\n",
       "r[6,5]     9.77  3.8e-3   0.21   9.34   9.63   9.77   9.91  10.16   3000   1.01\n",
       "r[7,5]    10.61  3.9e-3   0.21  10.17  10.47  10.62  10.76  11.01   3000   1.01\n",
       "r[8,5]    11.02  3.8e-3   0.21  10.59  10.88  11.03  11.16  11.42   3000   1.02\n",
       "r[9,5]    11.14  3.7e-3    0.2  10.72   11.0  11.14  11.28  11.52   3000   1.01\n",
       "r[10,5]   11.01  3.8e-3   0.21  10.59  10.87  11.01  11.15   11.4   3000   1.02\n",
       "r[11,5]   10.64  3.9e-3   0.21  10.21   10.5  10.65  10.79  11.03   3000   1.01\n",
       "r[12,5]    9.94  3.8e-3   0.21   9.52   9.81   9.94  10.09  10.34   3000   1.01\n",
       "r[13,5]    8.89  3.6e-3    0.2   8.49   8.76   8.89   9.02   9.28   3000   1.01\n",
       "r[14,5]    7.54  3.6e-3    0.2   7.15   7.41   7.54   7.67   7.93   3000   1.01\n",
       "r[15,5]    6.13  4.5e-3   0.25   5.65   5.97   6.13   6.29   6.61   3000    1.0\n",
       "r[0,6]     3.92  4.4e-3   0.24   3.45   3.75   3.92   4.09   4.38   3000   1.01\n",
       "r[1,6]     4.67  3.6e-3    0.2   4.28   4.54   4.67    4.8   5.04   3000   1.01\n",
       "r[2,6]     5.59  3.5e-3   0.19    5.2   5.46   5.58   5.72   5.98   3000   1.01\n",
       "r[3,6]     6.67  3.5e-3   0.19    6.3   6.55   6.67    6.8   7.05   3000   1.01\n",
       "r[4,6]     7.93  3.5e-3   0.19   7.54   7.81   7.93   8.06   8.31   3000   1.01\n",
       "r[5,6]     9.23  3.6e-3    0.2   8.82    9.1   9.23   9.36   9.62   3000   1.02\n",
       "r[6,6]    10.26  3.8e-3   0.21   9.83  10.12  10.27   10.4  10.65   3000   1.01\n",
       "r[7,6]    10.83  3.8e-3   0.21  10.41  10.69  10.83  10.98  11.22   3000   1.02\n",
       "r[8,6]    10.94  3.6e-3    0.2  10.53  10.81  10.95  11.08  11.31   3000   1.02\n",
       "r[9,6]     10.8  3.5e-3   0.19  10.42  10.67   10.8  10.92  11.16   3000   1.02\n",
       "r[10,6]   10.64  3.6e-3    0.2  10.26  10.51  10.64  10.77  11.01   3000   1.02\n",
       "r[11,6]   10.44  3.6e-3    0.2  10.04  10.31  10.44  10.58  10.83   3000   1.02\n",
       "r[12,6]    10.2  3.7e-3    0.2   9.78  10.06   10.2  10.34  10.59   3000   1.01\n",
       "r[13,6]    9.63  3.9e-3   0.21   9.21   9.49   9.63   9.77  10.04   3000   1.01\n",
       "r[14,6]    8.54  3.7e-3    0.2   8.14    8.4   8.54   8.68   8.93   3000   1.01\n",
       "r[15,6]    7.23  4.4e-3   0.24   6.76   7.06   7.23   7.39   7.71   3000   1.01\n",
       "r[0,7]     3.95  4.5e-3   0.25   3.47   3.78   3.95   4.12   4.44   3000    1.0\n",
       "r[1,7]     4.84  3.6e-3    0.2   4.45   4.71   4.84   4.97   5.23   3000   1.01\n",
       "r[2,7]     5.84  3.6e-3    0.2   5.45   5.71   5.84   5.97   6.22   3000   1.01\n",
       "r[3,7]     7.02  3.5e-3   0.19   6.63   6.89   7.02   7.15   7.39   3000   1.01\n",
       "r[4,7]     8.25  3.6e-3    0.2   7.85   8.12   8.25   8.38   8.63   3000   1.02\n",
       "r[5,7]     9.43  3.7e-3    0.2   9.03    9.3   9.44   9.57   9.82   3000   1.02\n",
       "r[6,7]    10.24  3.7e-3    0.2   9.83   10.1  10.24  10.38  10.62   3000   1.02\n",
       "r[7,7]    10.54  3.6e-3    0.2  10.15   10.4  10.54  10.67  10.91   3000   1.02\n",
       "r[8,7]    10.36  3.5e-3   0.19   9.98  10.23  10.36  10.49  10.73   3000   1.02\n",
       "r[9,7]     9.96  3.9e-3   0.21   9.56   9.82   9.96  10.11  10.39   3000   1.01\n",
       "r[10,7]    9.79  3.9e-3   0.21   9.37   9.65   9.79   9.93  10.22   3000   1.01\n",
       "r[11,7]    9.87  3.6e-3    0.2   9.49   9.74   9.87   10.0  10.25   3000   1.01\n",
       "r[12,7]   10.02  3.6e-3    0.2   9.63   9.89  10.02  10.15  10.41   3000   1.01\n",
       "r[13,7]    9.88  3.9e-3   0.22   9.45   9.74   9.89  10.03   10.3   3000   1.02\n",
       "r[14,7]    9.19  3.9e-3   0.21   8.75   9.05   9.18   9.33   9.59   3000   1.02\n",
       "r[15,7]    8.08  4.3e-3   0.24    7.6   7.92   8.09   8.24   8.54   3000   1.01\n",
       "r[0,8]     3.52  4.3e-3   0.24   3.06   3.36   3.52   3.69   3.99   3000   1.01\n",
       "r[1,8]     4.49  3.6e-3   0.19    4.1   4.36    4.5   4.63   4.86   3000   1.01\n",
       "r[2,8]      5.6  3.5e-3   0.19   5.22   5.47   5.61   5.73   5.99   3000   1.01\n",
       "r[3,8]     6.84  3.6e-3   0.19   6.45   6.72   6.84   6.98   7.22   3000   1.01\n",
       "r[4,8]     8.05  3.6e-3    0.2   7.65   7.91   8.05   8.18   8.43   3000   1.01\n",
       "r[5,8]     9.18  3.7e-3    0.2   8.77   9.05   9.17   9.32   9.57   3000   1.01\n",
       "r[6,8]     9.88  3.6e-3    0.2   9.48   9.75   9.88  10.02  10.26   3000   1.01\n",
       "r[7,8]    10.06  3.5e-3   0.19   9.69   9.93  10.06  10.19  10.44   3000   1.01\n",
       "r[8,8]     9.81  3.6e-3    0.2   9.42   9.67   9.81   9.94  10.21   3000   1.01\n",
       "r[9,8]     9.35  4.1e-3   0.22   8.93    9.2   9.34    9.5   9.79   3000   1.01\n",
       "r[10,8]    9.15  4.1e-3   0.22   8.73    9.0   9.15    9.3    9.6   3000   1.01\n",
       "r[11,8]    9.31  3.7e-3    0.2   8.93   9.17   9.31   9.45   9.71   3000   1.01\n",
       "r[12,8]    9.57  3.5e-3   0.19    9.2   9.44   9.58    9.7   9.94   3000   1.02\n",
       "r[13,8]    9.62  3.8e-3   0.21    9.2   9.48   9.62   9.76  10.02   3000   1.01\n",
       "r[14,8]    9.14  3.8e-3   0.21   8.72    9.0   9.14   9.28   9.55   3000   1.02\n",
       "r[15,8]    8.28  4.3e-3   0.23    7.8   8.12   8.29   8.44   8.72   3000   1.01\n",
       "r[0,9]     2.95  4.3e-3   0.24   2.47   2.79   2.95   3.11    3.4   3000   1.01\n",
       "r[1,9]     3.98  3.6e-3    0.2   3.58   3.85   3.98   4.11   4.36   3000   1.01\n",
       "r[2,9]     5.09  3.5e-3   0.19    4.7   4.96   5.09   5.22   5.46   3000   1.01\n",
       "r[3,9]     6.27  3.6e-3    0.2   5.89   6.14   6.28    6.4   6.65   3000   1.01\n",
       "r[4,9]     7.48  3.6e-3    0.2   7.09   7.34   7.47   7.61   7.87   3000   1.01\n",
       "r[5,9]     8.58  3.6e-3    0.2    8.2   8.45   8.57   8.71   8.96   3000   1.01\n",
       "r[6,9]     9.33  3.6e-3   0.19   8.97    9.2   9.33   9.47   9.72   3000   1.01\n",
       "r[7,9]     9.66  3.5e-3   0.19   9.28   9.52   9.66   9.79  10.04   3000   1.01\n",
       "r[8,9]     9.47  3.6e-3    0.2   9.08   9.34   9.48    9.6   9.86   3000   1.01\n",
       "r[9,9]     9.04  4.0e-3   0.22   8.62   8.89   9.04   9.18   9.46   3000   1.01\n",
       "r[10,9]    8.81  4.0e-3   0.22   8.39   8.66   8.81   8.96   9.26   3000   1.01\n",
       "r[11,9]    8.89  3.6e-3    0.2   8.51   8.76   8.89   9.02   9.27   3000   1.02\n",
       "r[12,9]    9.06  3.5e-3   0.19   8.67   8.93   9.06   9.18   9.43   3000   1.02\n",
       "r[13,9]    8.93  3.7e-3    0.2   8.52   8.79   8.93   9.07   9.32   3000   1.02\n",
       "r[14,9]    8.46  3.7e-3    0.2   8.06   8.33   8.47    8.6   8.86   3000   1.02\n",
       "r[15,9]    7.79  4.2e-3   0.23   7.33   7.64   7.79   7.95   8.22   3000   1.01\n",
       "r[0,10]    2.45  4.4e-3   0.24   1.96    2.3   2.45   2.61   2.92   3000   1.01\n",
       "r[1,10]    3.36  3.7e-3    0.2   2.98   3.22   3.36   3.49   3.76   3000   1.01\n",
       "r[2,10]    4.42  3.7e-3    0.2   4.02   4.29   4.42   4.56   4.83   3000   1.01\n",
       "r[3,10]    5.62  3.7e-3    0.2   5.23   5.48   5.62   5.75   6.01   3000   1.01\n",
       "r[4,10]    6.81  3.7e-3    0.2    6.4   6.68   6.81   6.95    7.2   3000   1.01\n",
       "r[5,10]    7.95  3.6e-3    0.2   7.56   7.82   7.95   8.07   8.33   3000   1.01\n",
       "r[6,10]    8.87  3.5e-3   0.19    8.5   8.74   8.87    9.0   9.24   3000   1.01\n",
       "r[7,10]    9.39  3.6e-3    0.2   9.01   9.26   9.39   9.53   9.77   3000   1.01\n",
       "r[8,10]    9.35  3.5e-3   0.19   8.98   9.22   9.35   9.49   9.72   3000   1.01\n",
       "r[9,10]    9.03  3.7e-3    0.2   8.63   8.89   9.03   9.17   9.41   3000   1.01\n",
       "r[10,10]   8.72  3.6e-3    0.2   8.33   8.58   8.72   8.86   9.11   3000   1.01\n",
       "r[11,10]   8.55  3.5e-3   0.19   8.18   8.42   8.55   8.68   8.93   3000   1.02\n",
       "r[12,10]   8.37  3.6e-3    0.2   7.98   8.25   8.37    8.5   8.76   3000   1.02\n",
       "r[13,10]   8.01  3.6e-3    0.2   7.62   7.87    8.0   8.15   8.39   3000   1.02\n",
       "r[14,10]   7.43  3.6e-3    0.2   7.03    7.3   7.43   7.56   7.81   3000   1.02\n",
       "r[15,10]   6.74  4.2e-3   0.23   6.28   6.59   6.75    6.9   7.18   3000   1.01\n",
       "r[0,11]    2.18  4.4e-3   0.24   1.69   2.02   2.18   2.34   2.65   3000   1.01\n",
       "r[1,11]    2.93  3.7e-3    0.2   2.53    2.8   2.94   3.07   3.33   3000   1.02\n",
       "r[2,11]    3.94  3.7e-3    0.2   3.54    3.8   3.94   4.07   4.35   3000   1.01\n",
       "r[3,11]    5.14  3.7e-3    0.2   4.74    5.0   5.14   5.27   5.53   3000   1.01\n",
       "r[4,11]    6.38  3.7e-3    0.2   5.99   6.25   6.39   6.52   6.78   3000   1.01\n",
       "r[5,11]     7.6  3.6e-3    0.2    7.2   7.47    7.6   7.73   7.98   3000   1.01\n",
       "r[6,11]    8.64  3.5e-3   0.19   8.25    8.5   8.64   8.77   9.02   3000   1.01\n",
       "r[7,11]    9.27  3.6e-3    0.2   8.86   9.14   9.28   9.41   9.65   3000   1.02\n",
       "r[8,11]    9.32  3.6e-3    0.2   8.93   9.19   9.32   9.46   9.72   3000   1.02\n",
       "r[9,11]    9.05  3.6e-3    0.2   8.65   8.92   9.05   9.18   9.43   3000   1.01\n",
       "r[10,11]   8.62  3.5e-3   0.19   8.24   8.49   8.62   8.74   8.99   3000   1.01\n",
       "r[11,11]   8.13  3.5e-3   0.19   7.75    8.0   8.13   8.25   8.49   3000   1.02\n",
       "r[12,11]    7.6  3.5e-3   0.19   7.22   7.47    7.6   7.73   7.97   3000   1.02\n",
       "r[13,11]   6.96  3.6e-3    0.2   6.58   6.84   6.97    7.1   7.33   3000   1.02\n",
       "r[14,11]   6.19  3.5e-3   0.19   5.81   6.06   6.19   6.31   6.57   3000   1.01\n",
       "r[15,11]   5.37  4.2e-3   0.23   4.92   5.22   5.37   5.52   5.82   3000   1.01\n",
       "r[0,12]    2.12  4.3e-3   0.23   1.66   1.96   2.12   2.28   2.57   3000   1.01\n",
       "r[1,12]     2.8  3.6e-3    0.2   2.41   2.66    2.8   2.93   3.19   3000   1.01\n",
       "r[2,12]    3.68  3.6e-3    0.2   3.28   3.55   3.67    3.8   4.08   3000   1.01\n",
       "r[3,12]    4.78  3.7e-3    0.2   4.39   4.65   4.78   4.92   5.19   3000   1.01\n",
       "r[4,12]    6.09  3.6e-3    0.2   5.69   5.96    6.1   6.23   6.46   3000   1.01\n",
       "r[5,12]    7.39  3.5e-3   0.19    7.0   7.26   7.39   7.52   7.76   3000   1.01\n",
       "r[6,12]     8.5  3.5e-3   0.19   8.12   8.37    8.5   8.63   8.87   3000   1.01\n",
       "r[7,12]    9.13  3.6e-3    0.2   8.73    9.0   9.13   9.26   9.51   3000   1.01\n",
       "r[8,12]    9.18  3.6e-3    0.2   8.79   9.06   9.19   9.32   9.57   3000   1.01\n",
       "r[9,12]    8.88  3.6e-3    0.2    8.5   8.75   8.89   9.02   9.25   3000   1.01\n",
       "r[10,12]   8.22  3.5e-3   0.19   7.84   8.09   8.22   8.34   8.59   3000   1.01\n",
       "r[11,12]   7.42  3.5e-3   0.19   7.05   7.29   7.42   7.55   7.79   3000   1.01\n",
       "r[12,12]   6.62  3.6e-3    0.2   6.23   6.49   6.62   6.76   7.02   3000   1.01\n",
       "r[13,12]   5.82  3.6e-3    0.2   5.42    5.7   5.83   5.95    6.2   3000   1.01\n",
       "r[14,12]   5.04  3.6e-3    0.2   4.66   4.91   5.05   5.17   5.44   3000   1.01\n",
       "r[15,12]   4.23  4.3e-3   0.24   3.77   4.07   4.23   4.39    4.7   3000   1.01\n",
       "r[0,13]    2.27  4.4e-3   0.24   1.79   2.11   2.28   2.44   2.74   3000   1.01\n",
       "r[1,13]    2.87  3.5e-3   0.19   2.48   2.74   2.87    3.0   3.24   3000   1.01\n",
       "r[2,13]     3.7  3.5e-3   0.19   3.31   3.57    3.7   3.84   4.07   3000   1.01\n",
       "r[3,13]    4.71  3.7e-3    0.2   4.32   4.57   4.71   4.84   5.11   3000   1.01\n",
       "r[4,13]     6.0  3.6e-3   0.19   5.63   5.87    6.0   6.13   6.39   3000   1.01\n",
       "r[5,13]    7.25  3.5e-3   0.19   6.87   7.12   7.24   7.38   7.62   3000   1.02\n",
       "r[6,13]    8.37  3.5e-3   0.19   7.99   8.24   8.37    8.5   8.75   3000   1.02\n",
       "r[7,13]    8.98  3.6e-3   0.19    8.6   8.85   8.99   9.11   9.35   3000   1.02\n",
       "r[8,13]    8.97  3.6e-3   0.19   8.58   8.85   8.98    9.1   9.34   3000   1.01\n",
       "r[9,13]    8.55  3.5e-3   0.19   8.16   8.42   8.56   8.69   8.94   3000   1.02\n",
       "r[10,13]   7.73  3.5e-3   0.19   7.37    7.6   7.73   7.86   8.08   3000   1.01\n",
       "r[11,13]   6.73  3.5e-3   0.19   6.36   6.61   6.73   6.86   7.11   3000   1.01\n",
       "r[12,13]   5.83  3.6e-3    0.2   5.45    5.7   5.83   5.97   6.23   3000   1.01\n",
       "r[13,13]   5.01  3.6e-3    0.2   4.62   4.88   5.02   5.14   5.41   3000   1.01\n",
       "r[14,13]   4.23  3.6e-3    0.2   3.85   4.09   4.23   4.36   4.61   3000   1.01\n",
       "r[15,13]   3.54  4.2e-3   0.23   3.07   3.39   3.55    3.7   3.99   3000   1.01\n",
       "r[0,14]    2.45  4.5e-3   0.25   1.95   2.28   2.45   2.62   2.91   3000   1.01\n",
       "r[1,14]    3.06  3.6e-3   0.19   2.67   2.93   3.07    3.2   3.45   3000   1.01\n",
       "r[2,14]     3.9  3.5e-3   0.19   3.51   3.78    3.9   4.03   4.29   3000   1.01\n",
       "r[3,14]    4.85  3.5e-3   0.19   4.47   4.72   4.85   4.98   5.23   3000   1.02\n",
       "r[4,14]    5.98  3.5e-3   0.19   5.59   5.85   5.98   6.11   6.35   3000   1.02\n",
       "r[5,14]    7.19  3.5e-3   0.19    6.8   7.06   7.19   7.32   7.56   3000   1.02\n",
       "r[6,14]    8.18  3.6e-3    0.2   7.79   8.05   8.18   8.32   8.57   3000   1.01\n",
       "r[7,14]    8.69  3.6e-3    0.2   8.29   8.56    8.7   8.83   9.06   3000   1.02\n",
       "r[8,14]    8.61  3.5e-3   0.19   8.23   8.49   8.62   8.75   8.98   3000   1.02\n",
       "r[9,14]    8.14  3.5e-3   0.19   7.75   8.01   8.14   8.26   8.52   3000   1.02\n",
       "r[10,14]   7.23  3.5e-3   0.19   6.84    7.1   7.23   7.36   7.61   3000   1.01\n",
       "r[11,14]   6.24  3.6e-3   0.19   5.87   6.11   6.24   6.37   6.63   3000   1.01\n",
       "r[12,14]   5.33  3.7e-3    0.2   4.94   5.19   5.33   5.46   5.73   3000   1.01\n",
       "r[13,14]   4.51  3.7e-3    0.2   4.11   4.37   4.51   4.64    4.9   3000   1.01\n",
       "r[14,14]   3.76  3.7e-3    0.2   3.37   3.63   3.76    3.9   4.16   3000   1.01\n",
       "r[15,14]   3.13  4.3e-3   0.23   2.68   2.97   3.13   3.29   3.59   3000   1.01\n",
       "r[0,15]    2.59  4.4e-3   0.24   2.12   2.44    2.6   2.76   3.05   3000   1.01\n",
       "r[1,15]    3.26  3.5e-3   0.19   2.88   3.14   3.26   3.39   3.66   3000   1.01\n",
       "r[2,15]     4.1  3.5e-3   0.19   3.72   3.97    4.1   4.23   4.48   3000   1.01\n",
       "r[3,15]    5.03  3.5e-3   0.19   4.67   4.91   5.04   5.16   5.42   3000   1.02\n",
       "r[4,15]    6.04  3.5e-3   0.19   5.66   5.92   6.04   6.17   6.42   3000   1.02\n",
       "r[5,15]    7.07  3.5e-3   0.19   6.69   6.94   7.07    7.2   7.45   3000   1.02\n",
       "r[6,15]    7.85  3.6e-3    0.2   7.47   7.72   7.86   7.99   8.22   3000   1.02\n",
       "r[7,15]    8.21  3.6e-3    0.2   7.81   8.08   8.21   8.35   8.59   3000   1.01\n",
       "r[8,15]    8.07  3.5e-3   0.19   7.68   7.94   8.07    8.2   8.44   3000   1.01\n",
       "r[9,15]    7.61  3.5e-3   0.19   7.24   7.48   7.61   7.74   7.98   3000   1.01\n",
       "r[10,15]   6.82  3.5e-3   0.19   6.43   6.68   6.82   6.95   7.19   3000   1.01\n",
       "r[11,15]   5.98  3.5e-3   0.19    5.6   5.85   5.98   6.12   6.35   3000   1.01\n",
       "r[12,15]    5.1  3.6e-3    0.2   4.72   4.96    5.1   5.23   5.48   3000   1.01\n",
       "r[13,15]   4.25  3.6e-3    0.2   3.86   4.11   4.25   4.38   4.62   3000   1.01\n",
       "r[14,15]   3.45  3.7e-3    0.2   3.06    3.3   3.45   3.58   3.85   3000   1.01\n",
       "r[15,15]   2.71  4.3e-3   0.24   2.25   2.55   2.72   2.88   3.18   3000   1.01\n",
       "r[0,16]    2.62  4.2e-3   0.23   2.17   2.46   2.62   2.78   3.06   3000    1.0\n",
       "r[1,16]    3.38  3.5e-3   0.19   2.99   3.25   3.39   3.51   3.75   3000   1.01\n",
       "r[2,16]    4.28  3.5e-3   0.19   3.91   4.16   4.29   4.41   4.65   3000   1.01\n",
       "r[3,16]    5.22  3.5e-3   0.19   4.82   5.09   5.22   5.35    5.6   3000   1.01\n",
       "r[4,16]    6.17  3.5e-3   0.19    5.8   6.04   6.17   6.29   6.54   3000   1.01\n",
       "r[5,16]    6.98  3.5e-3   0.19   6.61   6.85   6.98    7.1   7.35   3000   1.01\n",
       "r[6,16]    7.48  3.5e-3   0.19   7.09   7.36   7.48   7.61   7.85   3000   1.01\n",
       "r[7,16]     7.6  3.5e-3   0.19   7.22   7.47   7.61   7.73   7.98   3000   1.01\n",
       "r[8,16]     7.4  3.5e-3   0.19   7.02   7.28   7.41   7.53   7.78   3000   1.01\n",
       "r[9,16]    6.98  3.5e-3   0.19    6.6   6.86   6.98   7.11   7.36   3000   1.01\n",
       "r[10,16]   6.45  3.5e-3   0.19   6.07   6.33   6.46   6.58   6.83   3000   1.01\n",
       "r[11,16]   5.86  3.6e-3    0.2   5.48   5.73   5.86   5.99   6.24   3000   1.01\n",
       "r[12,16]    5.0  3.6e-3    0.2    4.6   4.87   4.99   5.13   5.39   3000   1.01\n",
       "r[13,16]   4.09  3.5e-3   0.19    3.7   3.96   4.09   4.22   4.46   3000   1.02\n",
       "r[14,16]   3.18  3.5e-3   0.19   2.78   3.05   3.17   3.31   3.56   3000   1.01\n",
       "r[15,16]    2.3  4.3e-3   0.24   1.82   2.14    2.3   2.46   2.77   3000   1.01\n",
       "r[0,17]    2.67  4.2e-3   0.23   2.24   2.52   2.67   2.83   3.13   3000    1.0\n",
       "r[1,17]    3.48  3.5e-3   0.19    3.1   3.35   3.48   3.61   3.85   3000   1.01\n",
       "r[2,17]    4.44  3.5e-3   0.19   4.07   4.32   4.45   4.57   4.82   3000   1.01\n",
       "r[3,17]    5.42  3.5e-3   0.19   5.03   5.29   5.42   5.55    5.8   3000   1.01\n",
       "r[4,17]     6.3  3.4e-3   0.19   5.93   6.17    6.3   6.42   6.68   3000   1.02\n",
       "r[5,17]    6.87  3.5e-3   0.19   6.49   6.74   6.87    7.0   7.24   3000   1.01\n",
       "r[6,17]    7.09  3.5e-3   0.19   6.71   6.97    7.1   7.22   7.47   3000   1.01\n",
       "r[7,17]    7.04  3.5e-3   0.19   6.66   6.91   7.05   7.18   7.42   3000   1.01\n",
       "r[8,17]    6.76  3.5e-3   0.19   6.39   6.63   6.76   6.89   7.12   3000   1.01\n",
       "r[9,17]    6.38  3.4e-3   0.19    6.0   6.25   6.38    6.5   6.75   3000   1.01\n",
       "r[10,17]   5.99  3.5e-3   0.19   5.61   5.86   5.99   6.12   6.37   3000   1.01\n",
       "r[11,17]   5.53  3.7e-3    0.2   5.12    5.4   5.54   5.67   5.93   3000   1.01\n",
       "r[12,17]   4.86  3.7e-3    0.2   4.45   4.72   4.86   4.99   5.25   3000   1.01\n",
       "r[13,17]   3.93  3.5e-3   0.19   3.56    3.8   3.93   4.06    4.3   3000   1.01\n",
       "r[14,17]   2.89  3.6e-3   0.19   2.51   2.76   2.89   3.02   3.27   3000   1.01\n",
       "r[15,17]   1.94  4.2e-3   0.23   1.47   1.78   1.94    2.1   2.38   3000   1.01\n",
       "r[0,18]    2.79  4.2e-3   0.23   2.34   2.64   2.79   2.95   3.25   3000    1.0\n",
       "r[1,18]     3.6  3.5e-3   0.19   3.22   3.47    3.6   3.73   3.97   3000   1.01\n",
       "r[2,18]     4.6  3.5e-3   0.19   4.22   4.46   4.59   4.73   4.97   3000   1.02\n",
       "r[3,18]    5.53  3.5e-3   0.19   5.13    5.4   5.53   5.66   5.89   3000   1.02\n",
       "r[4,18]     6.3  3.5e-3   0.19    5.9   6.17    6.3   6.43   6.67   3000   1.01\n",
       "r[5,18]    6.74  3.6e-3    0.2   6.35   6.61   6.74   6.87   7.13   3000   1.01\n",
       "r[6,18]    6.85  3.5e-3   0.19   6.46   6.72   6.84   6.98   7.21   3000   1.01\n",
       "r[7,18]    6.59  3.5e-3   0.19   6.21   6.46   6.59   6.72   6.95   3000   1.01\n",
       "r[8,18]    6.15  3.5e-3   0.19   5.77   6.02   6.15   6.28   6.51   3000   1.01\n",
       "r[9,18]    5.76  3.4e-3   0.19   5.38   5.63   5.76   5.88   6.13   3000   1.01\n",
       "r[10,18]    5.4  3.5e-3   0.19   5.01   5.27    5.4   5.52   5.77   3000   1.01\n",
       "r[11,18]    5.0  3.6e-3    0.2   4.61   4.87   5.01   5.14   5.38   3000   1.01\n",
       "r[12,18]   4.44  3.7e-3    0.2   4.03    4.3   4.44   4.57   4.83   3000   1.01\n",
       "r[13,18]   3.53  3.6e-3    0.2   3.13   3.39   3.53   3.66   3.91   3000   1.01\n",
       "r[14,18]   2.54  3.5e-3   0.19   2.17   2.42   2.54   2.67   2.91   3000   1.01\n",
       "r[15,18]   1.58  4.2e-3   0.23   1.13   1.43   1.58   1.74   2.02   3000   1.01\n",
       "r[0,19]    2.84  4.3e-3   0.24   2.37   2.68   2.84    3.0   3.28   3000   1.01\n",
       "r[1,19]    3.66  3.6e-3    0.2   3.26   3.53   3.67    3.8   4.04   3000   1.02\n",
       "r[2,19]    4.49  3.5e-3   0.19    4.1   4.36   4.49   4.62   4.88   3000   1.02\n",
       "r[3,19]    5.35  3.5e-3   0.19   4.96   5.21   5.35   5.48   5.73   3000   1.01\n",
       "r[4,19]    6.05  3.6e-3    0.2   5.66   5.92   6.06   6.18   6.44   3000   1.01\n",
       "r[5,19]    6.45  3.7e-3    0.2   6.06   6.31   6.45   6.58   6.84   3000   1.01\n",
       "r[6,19]    6.46  3.6e-3    0.2   6.07   6.33   6.46   6.59   6.85   3000   1.01\n",
       "r[7,19]    6.13  3.5e-3   0.19   5.74   6.01   6.14   6.27    6.5   3000   1.01\n",
       "r[8,19]    5.61  3.5e-3   0.19   5.23   5.48   5.61   5.73   5.98   3000   1.01\n",
       "r[9,19]    5.09  3.5e-3   0.19   4.71   4.97   5.09   5.22   5.47   3000   1.01\n",
       "r[10,19]    4.7  3.5e-3   0.19   4.32   4.58    4.7   4.83   5.08   3000   1.01\n",
       "r[11,19]   4.33  3.5e-3   0.19   3.93    4.2   4.33   4.46   4.69   3000   1.01\n",
       "r[12,19]    3.8  3.6e-3    0.2   3.42   3.66    3.8   3.93   4.17   3000   1.01\n",
       "r[13,19]   2.98  3.6e-3    0.2    2.6   2.85   2.98   3.12   3.36   3000   1.01\n",
       "r[14,19]   2.11  3.5e-3   0.19   1.72   1.98   2.11   2.24   2.48   3000   1.01\n",
       "r[15,19]   1.27  4.3e-3   0.23   0.79   1.12   1.27   1.43   1.73   3000   1.01\n",
       "r[0,20]    2.77  4.4e-3   0.24   2.29   2.61   2.77   2.93   3.23   3000   1.01\n",
       "r[1,20]    3.41  3.6e-3    0.2   3.02   3.27   3.41   3.54   3.78   3000   1.01\n",
       "r[2,20]     4.1  3.5e-3   0.19   3.72   3.97    4.1   4.23   4.48   3000   1.01\n",
       "r[3,20]    4.85  3.6e-3    0.2   4.45   4.72   4.85   4.99   5.24   3000   1.01\n",
       "r[4,20]    5.48  3.7e-3    0.2   5.07   5.34   5.48   5.62   5.86   3000   1.01\n",
       "r[5,20]    5.81  3.7e-3    0.2   5.41   5.68   5.81   5.95   6.21   3000   1.01\n",
       "r[6,20]    5.81  3.6e-3    0.2   5.41   5.67   5.81   5.94    6.2   3000   1.01\n",
       "r[7,20]    5.47  3.6e-3    0.2   5.08   5.35   5.48   5.61   5.86   3000   1.01\n",
       "r[8,20]     5.0  3.5e-3   0.19   4.61   4.87   5.01   5.13   5.38   3000   1.02\n",
       "r[9,20]    4.42  3.6e-3   0.19   4.04   4.29   4.42   4.55   4.81   3000   1.01\n",
       "r[10,20]   3.95  3.6e-3   0.19   3.57   3.82   3.95   4.08   4.32   3000   1.01\n",
       "r[11,20]   3.53  3.6e-3   0.19   3.15   3.41   3.53   3.66   3.91   3000   1.01\n",
       "r[12,20]   3.02  3.5e-3   0.19   2.64   2.89   3.02   3.15   3.39   3000   1.01\n",
       "r[13,20]   2.33  3.6e-3    0.2   1.94    2.2   2.33   2.46    2.7   3000   1.02\n",
       "r[14,20]   1.64  3.5e-3   0.19   1.26   1.51   1.64   1.76   2.01   3000   1.01\n",
       "r[15,20]   1.02  4.2e-3   0.23   0.56   0.86   1.01   1.17   1.45   3000   1.01\n",
       "r[0,21]    2.45  4.4e-3   0.24   1.96   2.29   2.45   2.61   2.92   3000    1.0\n",
       "r[1,21]    2.88  3.6e-3    0.2    2.5   2.75   2.88   3.02   3.25   3000   1.01\n",
       "r[2,21]    3.43  3.5e-3   0.19   3.05    3.3   3.43   3.56    3.8   3000   1.01\n",
       "r[3,21]    3.98  3.6e-3    0.2   3.59   3.85   3.98   4.11   4.36   3000   1.01\n",
       "r[4,21]    4.45  3.6e-3    0.2   4.06   4.31   4.45   4.58   4.83   3000   1.01\n",
       "r[5,21]    4.74  3.6e-3    0.2   4.35   4.62   4.75   4.88   5.13   3000   1.01\n",
       "r[6,21]    4.79  3.6e-3    0.2   4.39   4.65   4.79   4.92   5.18   3000   1.01\n",
       "r[7,21]    4.57  3.6e-3    0.2   4.17   4.43   4.57   4.71   4.94   3000   1.01\n",
       "r[8,21]    4.17  3.6e-3    0.2   3.79   4.04   4.18   4.31   4.57   3000   1.01\n",
       "r[9,21]     3.7  3.6e-3    0.2   3.32   3.57    3.7   3.84   4.09   3000   1.01\n",
       "r[10,21]   3.25  3.5e-3   0.19   2.87   3.12   3.25   3.38   3.64   3000   1.01\n",
       "r[11,21]   2.76  3.6e-3   0.19   2.38   2.63   2.76    2.9   3.14   3000   1.01\n",
       "r[12,21]   2.27  3.6e-3    0.2   1.88   2.14   2.27    2.4   2.66   3000   1.02\n",
       "r[13,21]    1.7  3.6e-3    0.2   1.32   1.56    1.7   1.84   2.09   3000   1.02\n",
       "r[14,21]   1.22  3.6e-3    0.2   0.83   1.08   1.22   1.35    1.6   3000   1.01\n",
       "r[15,21]   0.76  4.3e-3   0.23   0.29   0.61   0.77   0.92   1.21   3000   1.01\n",
       "r[0,22]    2.02  4.3e-3   0.24   1.57   1.86   2.02   2.19   2.47   3000    1.0\n",
       "r[1,22]    2.28  3.6e-3    0.2   1.91   2.15   2.29   2.42   2.67   3000   1.01\n",
       "r[2,22]    2.64  3.6e-3    0.2   2.26    2.5   2.64   2.77   3.02   3000   1.01\n",
       "r[3,22]    2.98  3.6e-3    0.2    2.6   2.85   2.99   3.12   3.37   3000   1.01\n",
       "r[4,22]    3.27  3.6e-3   0.19   2.88   3.13   3.27    3.4   3.66   3000   1.01\n",
       "r[5,22]    3.48  3.5e-3   0.19   3.09   3.35   3.48   3.61   3.86   3000   1.01\n",
       "r[6,22]    3.61  3.6e-3    0.2   3.23   3.48   3.61   3.74   3.99   3000   1.01\n",
       "r[7,22]    3.54  3.6e-3    0.2   3.15   3.41   3.54   3.68   3.93   3000   1.01\n",
       "r[8,22]    3.32  3.6e-3    0.2   2.93   3.18   3.33   3.46   3.69   3000   1.01\n",
       "r[9,22]    2.97  3.6e-3    0.2   2.58   2.83   2.97    3.1   3.34   3000   1.01\n",
       "r[10,22]   2.56  3.5e-3   0.19   2.18   2.43   2.56   2.69   2.92   3000   1.01\n",
       "r[11,22]    2.1  3.6e-3    0.2   1.73   1.97    2.1   2.24   2.48   3000   1.01\n",
       "r[12,22]   1.65  3.7e-3    0.2   1.25   1.52   1.65   1.78   2.05   3000   1.01\n",
       "r[13,22]   1.19  3.7e-3    0.2   0.79   1.05   1.19   1.32   1.59   3000   1.02\n",
       "r[14,22]   0.83  3.6e-3    0.2   0.43   0.69   0.83   0.96   1.22   3000   1.02\n",
       "r[15,22]   0.48  4.3e-3   0.24   0.02   0.32   0.48   0.64   0.95   3000   1.01\n",
       "r[0,23]    1.54  5.5e-3    0.3   0.95   1.34   1.54   1.74   2.14   3000    1.0\n",
       "r[1,23]    1.68  4.4e-3   0.24   1.21   1.52   1.68   1.84   2.15   3000   1.01\n",
       "r[2,23]    1.81  4.3e-3   0.23   1.36   1.66   1.81   1.97   2.27   3000   1.01\n",
       "r[3,23]    1.89  4.3e-3   0.23   1.43   1.74   1.89   2.05   2.35   3000   1.01\n",
       "r[4,23]    2.03  4.2e-3   0.23   1.57   1.87   2.03   2.18   2.47   3000   1.01\n",
       "r[5,23]    2.18  4.3e-3   0.24   1.72   2.03   2.19   2.35   2.63   3000    1.0\n",
       "r[6,23]    2.37  4.4e-3   0.24   1.89   2.21   2.37   2.53   2.83   3000   1.01\n",
       "r[7,23]    2.48  4.3e-3   0.23   2.03   2.32   2.48   2.64   2.94   3000   1.01\n",
       "r[8,23]    2.42  4.3e-3   0.24   1.95   2.27   2.43   2.58   2.87   3000   1.01\n",
       "r[9,23]    2.21  4.3e-3   0.23   1.75   2.06   2.22   2.37   2.67   3000    1.0\n",
       "r[10,23]   1.87  4.3e-3   0.24    1.4   1.71   1.88   2.03   2.34   3000   1.01\n",
       "r[11,23]   1.52  4.3e-3   0.23   1.05   1.35   1.51   1.68   1.98   3000   1.01\n",
       "r[12,23]   1.18  4.3e-3   0.24   0.72   1.03   1.18   1.34   1.65   3000   1.01\n",
       "r[13,23]   0.87  4.3e-3   0.23   0.41   0.71   0.87   1.03   1.33   3000   1.01\n",
       "r[14,23]   0.51  4.3e-3   0.23   0.05   0.35   0.52   0.67   0.97   3000   1.01\n",
       "r[15,23]    0.2  5.5e-3    0.3  -0.39-4.2e-3    0.2   0.39   0.79   3000    1.0\n",
       "s_r        0.34  3.9e-4   0.02    0.3   0.33   0.34   0.35   0.38   3000    1.0\n",
       "beta[0]   -1.39  3.9e-3   0.21  -1.81  -1.53  -1.39  -1.25  -0.97   3000   1.01\n",
       "beta[1]     0.8  4.0e-3   0.22   0.37   0.65    0.8   0.95   1.23   3000   1.01\n",
       "beta[2]     1.8  3.8e-3   0.21   1.39   1.66    1.8   1.94   2.21   3000   1.01\n",
       "beta[3]   -2.69  3.8e-3   0.21   -3.1  -2.83  -2.69  -2.55   -2.3   3000   1.01\n",
       "beta[4]    0.55  4.0e-3   0.22   0.14   0.41   0.55    0.7   0.98   3000   1.01\n",
       "beta[5]    0.64  3.8e-3   0.21   0.23    0.5   0.64   0.78   1.05   3000   1.01\n",
       "beta[6]   -0.25  4.0e-3   0.22  -0.67   -0.4  -0.26  -0.11   0.18   3000   1.01\n",
       "beta[7]   -0.78  4.0e-3   0.22  -1.19  -0.93  -0.79  -0.63  -0.34   3000   1.01\n",
       "beta[8]   -0.55  4.2e-3   0.23   -1.0  -0.71  -0.56   -0.4  -0.11   3000    1.0\n",
       "beta[9]   -0.68  4.0e-3   0.22   -1.1  -0.83  -0.69  -0.53  -0.25   3000   1.01\n",
       "beta[10]  -0.11  3.9e-3   0.22  -0.53  -0.26  -0.11   0.03   0.32   3000   1.01\n",
       "beta[11]  -0.88  3.9e-3   0.21  -1.31  -1.02  -0.88  -0.73  -0.47   3000   1.01\n",
       "beta[12]  -0.55  3.8e-3   0.21  -0.94   -0.7  -0.56  -0.42  -0.13   3000   1.01\n",
       "beta[13]   0.32  3.8e-3   0.21  -0.08   0.17   0.32   0.45   0.75   3000   1.01\n",
       "beta[14]   1.17  3.9e-3   0.22   0.75   1.02   1.17   1.31   1.59   3000   1.01\n",
       "beta[15]   0.05  3.9e-3   0.21  -0.35   -0.1   0.05   0.19   0.46   3000   1.01\n",
       "beta[16]  -0.54  3.9e-3   0.21  -0.96  -0.68  -0.54  -0.39  -0.13   3000   1.01\n",
       "beta[17]  -0.82  4.0e-3   0.22  -1.25  -0.97  -0.82  -0.67  -0.37   3000   1.01\n",
       "beta[18]   -0.7  4.0e-3   0.22  -1.12  -0.85  -0.71  -0.56  -0.24   3000   1.01\n",
       "beta[19]   2.86  4.0e-3   0.22   2.43   2.71   2.86    3.0    3.3   3000   1.01\n",
       "beta[20]   0.55  3.9e-3   0.21   0.14   0.41   0.54    0.7   0.97   3000   1.01\n",
       "beta[21]  -0.37  4.0e-3   0.22  -0.79  -0.52  -0.37  -0.22   0.06   3000   1.01\n",
       "beta[22]   0.03  3.9e-3   0.21  -0.39  -0.11   0.03   0.19   0.46   3000   1.01\n",
       "beta[23]   0.95  3.9e-3   0.21   0.53    0.8   0.94   1.08   1.38   3000   1.01\n",
       "beta[24]  -0.75  4.1e-3   0.22  -1.19   -0.9  -0.75   -0.6  -0.31   3000   1.01\n",
       "beta[25]  -1.63  4.0e-3   0.22  -2.05  -1.78  -1.63  -1.49  -1.21   3000   1.01\n",
       "beta[26]   0.87  3.9e-3   0.21   0.45   0.73   0.87   1.02   1.29   3000   1.01\n",
       "beta[27]  -1.15  4.0e-3   0.22  -1.58  -1.29  -1.15   -1.0  -0.73   3000   1.01\n",
       "beta[28]   0.19  4.1e-3   0.22  -0.25   0.05   0.19   0.34   0.64   3000   1.01\n",
       "beta[29]  -1.12  3.9e-3   0.21  -1.53  -1.26  -1.12  -0.98   -0.7   3000   1.01\n",
       "beta[30]   1.69  4.0e-3   0.22   1.25   1.54   1.69   1.85   2.11   3000   1.01\n",
       "beta[31]  -0.31  4.0e-3   0.22  -0.74  -0.46  -0.31  -0.17   0.14   3000   1.01\n",
       "beta[32]  -0.34  4.0e-3   0.22  -0.77  -0.49  -0.35  -0.19   0.09   3000   1.01\n",
       "beta[33]   -0.3  3.9e-3   0.21  -0.71  -0.44   -0.3  -0.16   0.12   3000   1.01\n",
       "beta[34]  -1.45  4.0e-3   0.22  -1.87   -1.6  -1.46   -1.3  -1.02   3000   1.01\n",
       "beta[35]  -1.01  4.0e-3   0.22  -1.44  -1.16  -1.02  -0.87  -0.58   3000   1.01\n",
       "beta[36]  -2.38  4.0e-3   0.22  -2.81  -2.53  -2.38  -2.23  -1.95   3000   1.01\n",
       "beta[37]  -1.48  3.9e-3   0.21  -1.89  -1.63  -1.48  -1.34  -1.06   3000   1.01\n",
       "beta[38]   0.06  3.9e-3   0.21  -0.36  -0.09   0.06    0.2   0.49   3000   1.01\n",
       "beta[39]  -0.31  4.0e-3   0.22  -0.72  -0.46  -0.31  -0.16   0.14   3000   1.02\n",
       "beta[40]   1.98  3.9e-3   0.22   1.57   1.83   1.98   2.12   2.42   3000   1.01\n",
       "beta[41]  -1.05  3.9e-3   0.21  -1.46   -1.2  -1.06  -0.91  -0.63   3000   1.01\n",
       "beta[42]  -0.71  3.8e-3   0.21  -1.12  -0.85  -0.71  -0.57  -0.28   3000   1.01\n",
       "beta[43]  -0.13  3.9e-3   0.22  -0.55  -0.28  -0.14   0.01    0.3   3000   1.01\n",
       "beta[44]  -1.24  3.9e-3   0.21  -1.66  -1.38  -1.24   -1.1   -0.8   3000   1.01\n",
       "beta[45]  -0.71  3.8e-3   0.21  -1.11  -0.86  -0.71  -0.57   -0.3   3000   1.01\n",
       "beta[46]   -1.0  3.8e-3   0.21   -1.4  -1.14   -1.0  -0.86  -0.59   3000   1.01\n",
       "beta[47]  -1.77  4.0e-3   0.22  -2.21  -1.91  -1.76  -1.62  -1.34   3000   1.01\n",
       "beta[48]  -0.46  3.9e-3   0.22  -0.87  -0.61  -0.45  -0.31  -0.03   3000   1.01\n",
       "beta[49]  -0.42  4.0e-3   0.22  -0.84  -0.56  -0.42  -0.27   0.02   3000   1.01\n",
       "beta[50]  -1.99  4.0e-3   0.22  -2.43  -2.13  -1.99  -1.84  -1.55   3000   1.01\n",
       "beta[51]  -0.53  4.0e-3   0.22  -0.96  -0.67  -0.53  -0.39  -0.11   3000   1.01\n",
       "beta[52]  -0.94  4.1e-3   0.23  -1.38  -1.09  -0.94  -0.79  -0.49   3000    1.0\n",
       "beta[53]   -0.9  3.9e-3   0.21  -1.31  -1.05   -0.9  -0.76  -0.47   3000   1.01\n",
       "beta[54]   0.16  4.0e-3   0.22  -0.26 7.2e-3   0.16    0.3    0.6   3000   1.01\n",
       "beta[55]   0.95  4.0e-3   0.22   0.53    0.8   0.95   1.09   1.38   3000   1.01\n",
       "beta[56]   2.15  3.9e-3   0.22   1.73   2.01   2.15    2.3   2.58   3000   1.01\n",
       "beta[57]  -0.53  4.0e-3   0.22  -0.96  -0.68  -0.53  -0.38   -0.1   3000   1.01\n",
       "beta[58]   2.13  3.9e-3   0.21   1.72   1.99   2.13   2.27   2.56   3000   1.01\n",
       "beta[59]  -1.08  3.9e-3   0.21   -1.5  -1.23  -1.08  -0.94  -0.66   3000   1.01\n",
       "beta[60]   1.07  4.0e-3   0.22   0.64   0.93   1.07   1.22   1.49   3000   1.01\n",
       "beta[61]    3.3  3.8e-3   0.21    2.9   3.16    3.3   3.43    3.7   3000   1.01\n",
       "beta[62]   0.09  4.2e-3   0.23  -0.38  -0.07   0.09   0.24   0.53   3000   1.01\n",
       "beta[63]  -0.82  3.9e-3   0.21  -1.24  -0.97  -0.82  -0.69   -0.4   3000   1.01\n",
       "beta[64]   0.15  4.0e-3   0.22  -0.27 9.3e-3   0.15    0.3   0.57   3000   1.01\n",
       "beta[65]   2.27  4.0e-3   0.22   1.86   2.13   2.27   2.42   2.69   3000   1.01\n",
       "beta[66]  -1.13  3.9e-3   0.21  -1.53  -1.27  -1.13  -0.98   -0.7   3000   1.01\n",
       "beta[67]   1.69  4.0e-3   0.22   1.26   1.54   1.69   1.84   2.13   3000   1.01\n",
       "beta[68]   2.15  3.9e-3   0.21   1.74   2.01   2.15    2.3   2.56   3000   1.01\n",
       "beta[69]   0.48  3.9e-3   0.21   0.07   0.33   0.48   0.62   0.89   3000   1.01\n",
       "beta[70]   0.59  4.1e-3   0.22   0.16   0.43   0.58   0.74   1.04   3000   1.01\n",
       "beta[71]  -0.26  3.9e-3   0.22  -0.68  -0.41  -0.26  -0.12   0.16   3000   1.01\n",
       "beta[72]   0.06  4.1e-3   0.22  -0.37  -0.09   0.06    0.2   0.52   3000   1.01\n",
       "beta[73]   1.22  3.9e-3   0.21   0.82   1.07   1.22   1.36   1.65   3000   1.01\n",
       "beta[74]   2.69  4.1e-3   0.22   2.27   2.54   2.69   2.84   3.14   3000   1.01\n",
       "beta[75]   0.27  3.9e-3   0.22  -0.15   0.12   0.27   0.41    0.7   3000   1.01\n",
       "beta[76]  -1.28  3.9e-3   0.21   -1.7  -1.43  -1.28  -1.14  -0.85   3000   1.01\n",
       "beta[77]  -0.83  4.0e-3   0.22  -1.28  -0.97  -0.83  -0.68  -0.42   3000   1.01\n",
       "beta[78]   0.43  3.9e-3   0.21 9.6e-3   0.28   0.43   0.57   0.85   3000   1.01\n",
       "beta[79]   0.04  4.0e-3   0.22  -0.37  -0.11   0.04   0.19   0.48   3000   1.01\n",
       "beta[80]  -0.04  4.0e-3   0.22  -0.47  -0.19  -0.05    0.1   0.38   3000   1.01\n",
       "beta[81]   0.47  3.9e-3   0.21   0.05   0.32   0.47   0.61   0.89   3000   1.02\n",
       "beta[82]  -1.37  3.9e-3   0.21  -1.78   -1.5  -1.37  -1.22  -0.96   3000   1.01\n",
       "beta[83]   0.14  4.1e-3   0.22  -0.28  -0.02   0.14   0.28   0.59   3000   1.01\n",
       "beta[84]    0.9  4.0e-3   0.22   0.46   0.76    0.9   1.05   1.33   3000   1.01\n",
       "beta[85]   0.76  3.9e-3   0.21   0.33   0.62   0.76    0.9   1.17   3000   1.01\n",
       "beta[86]   1.11  3.9e-3   0.22    0.7   0.96   1.12   1.25   1.55   3000   1.01\n",
       "beta[87]  -0.17  4.0e-3   0.22   -0.6  -0.31  -0.16  -0.02   0.27   3000   1.01\n",
       "beta[88]   0.14  4.0e-3   0.22  -0.29-2.6e-3   0.14   0.29   0.58   3000   1.01\n",
       "beta[89]  -1.32  3.9e-3   0.22  -1.73  -1.47  -1.32  -1.17  -0.89   3000   1.02\n",
       "beta[90]   0.03  3.9e-3   0.21   -0.4  -0.12   0.02   0.17   0.45   3000   1.01\n",
       "beta[91]   0.56  4.1e-3   0.22   0.13   0.41   0.56   0.72   1.01   3000   1.01\n",
       "beta[92]   2.35  3.8e-3   0.21   1.94   2.21   2.36   2.49   2.77   3000   1.01\n",
       "beta[93]   1.41  4.0e-3   0.22   0.97   1.27   1.42   1.56   1.85   3000   1.01\n",
       "beta[94]  -0.42  3.8e-3   0.21  -0.82  -0.57  -0.42  -0.28-1.5e-3   3000   1.01\n",
       "beta[95]    0.4  3.9e-3   0.21  -0.03   0.25    0.4   0.54    0.8   3000   1.01\n",
       "s_beta     1.21  1.7e-3   0.09   1.04   1.15   1.21   1.27   1.41   3000    1.0\n",
       "s_y        0.31  5.9e-4   0.03   0.25   0.29   0.31   0.33   0.38   3000    1.0\n",
       "lp__     -36.38    0.38  20.77 -78.89 -49.91 -35.65 -22.62   2.56   3000    1.0\n",
       "\n",
       "Samples were drawn using NUTS(diag_e) at 2015年10月17日 06時45分30秒.\n",
       "For each parameter, n_eff is a crude measure of effective sample size,\n",
       "and Rhat is the potential scale reduction factor on split chains (at \n",
       "convergence, Rhat=1)."
      ]
     },
     "execution_count": 14,
     "metadata": {},
     "output_type": "execute_result"
    }
   ],
   "source": [
    "data = dict(Ni=Ni, Nj=Nj, Y=m, T=T, T_index=d_design)\n",
    "\n",
    "stanmodel = pystan.StanModel(file='model.stan')\n",
    "fit = stanmodel.sampling(data=data, init=lambda: dict(r=smoothed, s_r=1, s_y=1, s_beta=1,\n",
    "                                                      beta=np.random.normal(0, 0.1, T)),\n",
    "                         iter=5200, warmup=200, thin=5, seed=1234, chains=3)\n",
    "fit"
   ]
  },
  {
   "cell_type": "code",
   "execution_count": 17,
   "metadata": {
    "collapsed": false
   },
   "outputs": [
    {
     "data": {
      "text/plain": [
       "array([[ 1.07893401,  1.26526672,  1.67559361, ...,  2.45301074,\n",
       "         2.02202457,  1.54015281],\n",
       "       [ 1.14425915,  1.45014096,  1.93297074, ...,  2.88291141,\n",
       "         2.28662123,  1.67660906],\n",
       "       [ 1.16696954,  1.61061632,  2.26612682, ...,  3.43184481,\n",
       "         2.64128407,  1.81310352],\n",
       "       ..., \n",
       "       [ 2.6423302 ,  3.79962133,  5.09686132, ...,  1.6980338 ,\n",
       "         1.18679444,  0.86954809],\n",
       "       [ 2.12988793,  2.92169039,  3.95397336, ...,  1.21743009,\n",
       "         0.83015662,  0.5156798 ],\n",
       "       [ 1.52658638,  2.07898329,  2.83214487, ...,  0.76601224,\n",
       "         0.48490322,  0.20104611]])"
      ]
     },
     "execution_count": 17,
     "metadata": {},
     "output_type": "execute_result"
    }
   ],
   "source": [
    "# runstan-post-fig4.R\n",
    "# after estimation\n",
    "la = fit.extract()\n",
    "r_median = np.percentile(la['r'], q=50, axis=0)\n",
    "r_median"
   ]
  },
  {
   "cell_type": "code",
   "execution_count": 23,
   "metadata": {
    "collapsed": false
   },
   "outputs": [
    {
     "data": {
      "image/png": "[encoded data removed]",
      "text/plain": [
       "<matplotlib.figure.Figure at 0x7fa58028e7b8>"
      ]
     },
     "metadata": {},
     "output_type": "display_data"
    }
   ],
   "source": [
    "from mpl_toolkits.mplot3d import Axes3D\n",
    "\n",
    "fig = plt.figure(figsize=(10, 5))\n",
    "ax = fig.gca(projection='3d')\n",
    "X = np.arange(Nj)\n",
    "Y = np.arange(Ni)\n",
    "X, Y = np.meshgrid(X, Y)\n",
    "surf = ax.plot_surface(X, Y, r_median, rstride=1, cstride=1, cmap=plt.get_cmap('gray'),\n",
    "        linewidth=0, antialiased=False)\n",
    "ax.set_xlabel('Plate Column')\n",
    "ax.set_ylabel('Plate Row')\n",
    "ax.set_zlabel('r')\n",
    "\n",
    "ax.view_init(elev=60., azim=250)\n",
    "fig.colorbar(surf, shrink=0.5, aspect=5);"
   ]
  },
  {
   "cell_type": "code",
   "execution_count": 24,
   "metadata": {
    "collapsed": false
   },
   "outputs": [
    {
     "data": {
      "text/plain": [
       "array([[-1.66149234,  0.5164041 ,  1.5341488 , ...,  1.12987529,\n",
       "        -0.68794997,  0.1275614 ],\n",
       "       [-1.39144346,  0.79880298,  1.80272396, ...,  1.41782357,\n",
       "        -0.42266128,  0.3985145 ],\n",
       "       [-1.11704502,  1.07756543,  2.06084856, ...,  1.69161406,\n",
       "        -0.1470554 ,  0.66226812]])"
      ]
     },
     "execution_count": 24,
     "metadata": {},
     "output_type": "execute_result"
    }
   ],
   "source": [
    "qua = np.percentile(la['beta'], q=[10, 50, 90], axis=0)\n",
    "qua"
   ]
  },
  {
   "cell_type": "code",
   "execution_count": 25,
   "metadata": {
    "collapsed": false,
    "scrolled": true
   },
   "outputs": [
    {
     "data": {
      "text/plain": [
       "array([-2.19348958,  0.67651042,  2.82651042, ...,  1.40651042,\n",
       "       -0.10598958, -0.93098958])"
      ]
     },
     "execution_count": 25,
     "metadata": {},
     "output_type": "execute_result"
    }
   ],
   "source": [
    "mean_Y = np.array([np.mean(m[d_design == i]) - np.mean(m) for i in range(1, T + 1)])\n",
    "mean_Y"
   ]
  },
  {
   "cell_type": "code",
   "execution_count": 26,
   "metadata": {
    "collapsed": false
   },
   "outputs": [
    {
     "data": {
      "image/png": "[encoded data removed]",
      "text/plain": [
       "<matplotlib.figure.Figure at 0x7fa585774358>"
      ]
     },
     "metadata": {},
     "output_type": "display_data"
    }
   ],
   "source": [
    "fig, ax = plt.subplots(1, 1, figsize=(7, 7))\n",
    "ax.errorbar(mean_Y, y=qua[1, :], yerr=[qua[1, :] - qua[0, :], qua[2, :] - qua[1, :]], fmt='o', \n",
    "           color='gray')\n",
    "ax.plot(np.arange(-5, 6), np.arange(-5, 6), color='gray', linestyle='dashed')\n",
    "ax.set_xlim(-5, 5)\n",
    "ax.set_ylim(-5, 5);"
   ]
  }
 ],
 "metadata": {
  "kernelspec": {
   "display_name": "Python 3",
   "language": "python",
   "name": "python3"
  },
  "language_info": {
   "codemirror_mode": {
    "name": "ipython",
    "version": 3
   },
   "file_extension": ".py",
   "mimetype": "text/x-python",
   "name": "python",
   "nbconvert_exporter": "python",
   "pygments_lexer": "ipython3",
   "version": "3.5.0"
  }
 },
 "nbformat": 4,
 "nbformat_minor": 0
}
